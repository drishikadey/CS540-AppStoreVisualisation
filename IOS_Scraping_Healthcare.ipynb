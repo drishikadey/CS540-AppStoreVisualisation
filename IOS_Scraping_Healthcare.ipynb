{
  "nbformat": 4,
  "nbformat_minor": 0,
  "metadata": {
    "colab": {
      "provenance": []
    },
    "kernelspec": {
      "name": "python3",
      "display_name": "Python 3"
    },
    "language_info": {
      "name": "python"
    }
  },
  "cells": [
    {
      "cell_type": "code",
      "execution_count": null,
      "metadata": {
        "colab": {
          "base_uri": "https://localhost:8080/"
        },
        "id": "aPaycv-EOBzq",
        "outputId": "a41a736a-8095-4a56-f1c2-b218a22d2cde"
      },
      "outputs": [
        {
          "output_type": "stream",
          "name": "stdout",
          "text": [
            "Looking in indexes: https://pypi.org/simple, https://us-python.pkg.dev/colab-wheels/public/simple/\n",
            "Collecting app-store-scraper\n",
            "  Downloading app_store_scraper-0.3.5-py3-none-any.whl (8.3 kB)\n",
            "Collecting requests==2.23.0\n",
            "  Downloading requests-2.23.0-py2.py3-none-any.whl (58 kB)\n",
            "\u001b[2K     \u001b[90m━━━━━━━━━━━━━━━━━━━━━━━━━━━━━━━━━━━━━━━━\u001b[0m \u001b[32m58.4/58.4 kB\u001b[0m \u001b[31m4.5 MB/s\u001b[0m eta \u001b[36m0:00:00\u001b[0m\n",
            "\u001b[?25hCollecting chardet<4,>=3.0.2\n",
            "  Downloading chardet-3.0.4-py2.py3-none-any.whl (133 kB)\n",
            "\u001b[2K     \u001b[90m━━━━━━━━━━━━━━━━━━━━━━━━━━━━━━━━━━━━━━\u001b[0m \u001b[32m133.4/133.4 kB\u001b[0m \u001b[31m11.7 MB/s\u001b[0m eta \u001b[36m0:00:00\u001b[0m\n",
            "\u001b[?25hCollecting idna<3,>=2.5\n",
            "  Downloading idna-2.10-py2.py3-none-any.whl (58 kB)\n",
            "\u001b[2K     \u001b[90m━━━━━━━━━━━━━━━━━━━━━━━━━━━━━━━━━━━━━━━━\u001b[0m \u001b[32m58.8/58.8 kB\u001b[0m \u001b[31m4.2 MB/s\u001b[0m eta \u001b[36m0:00:00\u001b[0m\n",
            "\u001b[?25hRequirement already satisfied: certifi>=2017.4.17 in /usr/local/lib/python3.9/dist-packages (from requests==2.23.0->app-store-scraper) (2022.12.7)\n",
            "Collecting urllib3!=1.25.0,!=1.25.1,<1.26,>=1.21.1\n",
            "  Downloading urllib3-1.25.11-py2.py3-none-any.whl (127 kB)\n",
            "\u001b[2K     \u001b[90m━━━━━━━━━━━━━━━━━━━━━━━━━━━━━━━━━━━━━━━\u001b[0m \u001b[32m128.0/128.0 kB\u001b[0m \u001b[31m7.0 MB/s\u001b[0m eta \u001b[36m0:00:00\u001b[0m\n",
            "\u001b[?25hInstalling collected packages: chardet, urllib3, idna, requests, app-store-scraper\n",
            "  Attempting uninstall: chardet\n",
            "    Found existing installation: chardet 4.0.0\n",
            "    Uninstalling chardet-4.0.0:\n",
            "      Successfully uninstalled chardet-4.0.0\n",
            "  Attempting uninstall: urllib3\n",
            "    Found existing installation: urllib3 1.26.15\n",
            "    Uninstalling urllib3-1.26.15:\n",
            "      Successfully uninstalled urllib3-1.26.15\n",
            "  Attempting uninstall: idna\n",
            "    Found existing installation: idna 3.4\n",
            "    Uninstalling idna-3.4:\n",
            "      Successfully uninstalled idna-3.4\n",
            "  Attempting uninstall: requests\n",
            "    Found existing installation: requests 2.27.1\n",
            "    Uninstalling requests-2.27.1:\n",
            "      Successfully uninstalled requests-2.27.1\n",
            "\u001b[31mERROR: pip's dependency resolver does not currently take into account all the packages that are installed. This behaviour is the source of the following dependency conflicts.\n",
            "yfinance 0.2.18 requires requests>=2.26, but you have requests 2.23.0 which is incompatible.\n",
            "tweepy 4.13.0 requires requests<3,>=2.27.0, but you have requests 2.23.0 which is incompatible.\n",
            "google-colab 1.0.0 requires requests>=2.27.0, but you have requests 2.23.0 which is incompatible.\u001b[0m\u001b[31m\n",
            "\u001b[0mSuccessfully installed app-store-scraper-0.3.5 chardet-3.0.4 idna-2.10 requests-2.23.0 urllib3-1.25.11\n"
          ]
        }
      ],
      "source": [
        "!pip3 install app-store-scraper"
      ]
    },
    {
      "cell_type": "code",
      "source": [
        "from app_store_scraper import AppStore\n",
        "from pprint import pprint\n",
        "\n",
        "teladoc = AppStore(country=\"us\", app_name=\"teladoc\")\n",
        "teladoc.review(how_many=250)\n",
        "\n",
        "#pprint(teladoc.reviews)\n",
        "pprint(teladoc.reviews_count)"
      ],
      "metadata": {
        "colab": {
          "base_uri": "https://localhost:8080/"
        },
        "id": "bOLdK4MEODUH",
        "outputId": "dcf38104-3593-4152-de9d-d15f915d13f2"
      },
      "execution_count": null,
      "outputs": [
        {
          "output_type": "stream",
          "name": "stdout",
          "text": [
            "260\n"
          ]
        }
      ]
    },
    {
      "cell_type": "code",
      "source": [
        "import pandas as pd\n",
        "import time\n",
        "df1= pd.DataFrame(teladoc.reviews)\n",
        "df1[\"App Name\"] = \"teladoc\"\n",
        "df1=df1[:250]"
      ],
      "metadata": {
        "id": "cKVu4n_rOHJ0"
      },
      "execution_count": null,
      "outputs": []
    },
    {
      "cell_type": "code",
      "source": [
        "app_list= [\"zocdoc\",\"betterhelp\",\"express scripts\",\"talkspace therapy & counseling\",\"happify\",\"followmyhealth\",\"mychart\",\"healow\",\"myfitnesspal\",\"noom\",\"myplate\",\"fitbit\",\"flo\",\"nike run club\",\"peloton\",\"period tracker\",\"23andme\",\"mycigna\",\"fitnesscoach\",\"calm\",\"pregnancy+\",\"drondemand\",\"blood donor american red cross\",\"GoodRx: Prescription Saver\",\"APPatient\",\"my invisalign\",\"va: health and benefits\",\"pulsepoint respond\",\"csl plasma\",\"Telehealth by SimplePractice\",\"MyQuest for Patients\",\"Sydney Health\",\"Weedmaps: Cannabis, Weed & CBD\",\"Leafly: Find Weed Near You\"]\n",
        "print(\"Num of apps to scrape : \",len(app_list)+1)\n",
        "from app_store_scraper import AppStore\n",
        "from pprint import pprint\n",
        "for i in app_list[:10]:\n",
        "  app = AppStore(country=\"us\", app_name=i)\n",
        "  app.review(how_many=250)\n",
        "\n",
        "  #pprint(minecraft.reviews)\n",
        "  pprint(app.reviews_count)\n",
        "  print(\"reviews for \",i)\n",
        "  new_df1= pd.DataFrame(app.reviews)\n",
        "  new_df1[\"App Name\"] = i\n",
        "  df1 = df1.append(new_df1[:250],ignore_index= True)\n",
        "  time.sleep(60)"
      ],
      "metadata": {
        "colab": {
          "base_uri": "https://localhost:8080/"
        },
        "id": "1DTtDNYAOOM_",
        "outputId": "a79d98b4-7dfc-4c42-c421-25750d233530"
      },
      "execution_count": null,
      "outputs": [
        {
          "output_type": "stream",
          "name": "stdout",
          "text": [
            "Num of apps to scrape :  35\n",
            "260\n",
            "reviews for  zocdoc\n"
          ]
        },
        {
          "output_type": "stream",
          "name": "stderr",
          "text": [
            "<ipython-input-4-112eeeb294e0>:14: FutureWarning: The frame.append method is deprecated and will be removed from pandas in a future version. Use pandas.concat instead.\n",
            "  df1 = df1.append(new_df1[:250],ignore_index= True)\n"
          ]
        },
        {
          "output_type": "stream",
          "name": "stdout",
          "text": [
            "260\n",
            "reviews for  betterhelp\n"
          ]
        },
        {
          "output_type": "stream",
          "name": "stderr",
          "text": [
            "<ipython-input-4-112eeeb294e0>:14: FutureWarning: The frame.append method is deprecated and will be removed from pandas in a future version. Use pandas.concat instead.\n",
            "  df1 = df1.append(new_df1[:250],ignore_index= True)\n"
          ]
        },
        {
          "output_type": "stream",
          "name": "stdout",
          "text": [
            "260\n",
            "reviews for  express scripts\n"
          ]
        },
        {
          "output_type": "stream",
          "name": "stderr",
          "text": [
            "<ipython-input-4-112eeeb294e0>:14: FutureWarning: The frame.append method is deprecated and will be removed from pandas in a future version. Use pandas.concat instead.\n",
            "  df1 = df1.append(new_df1[:250],ignore_index= True)\n"
          ]
        },
        {
          "output_type": "stream",
          "name": "stdout",
          "text": [
            "260\n",
            "reviews for  talkspace therapy & counseling\n"
          ]
        },
        {
          "output_type": "stream",
          "name": "stderr",
          "text": [
            "<ipython-input-4-112eeeb294e0>:14: FutureWarning: The frame.append method is deprecated and will be removed from pandas in a future version. Use pandas.concat instead.\n",
            "  df1 = df1.append(new_df1[:250],ignore_index= True)\n"
          ]
        },
        {
          "output_type": "stream",
          "name": "stdout",
          "text": [
            "260\n",
            "reviews for  happify\n"
          ]
        },
        {
          "output_type": "stream",
          "name": "stderr",
          "text": [
            "<ipython-input-4-112eeeb294e0>:14: FutureWarning: The frame.append method is deprecated and will be removed from pandas in a future version. Use pandas.concat instead.\n",
            "  df1 = df1.append(new_df1[:250],ignore_index= True)\n"
          ]
        },
        {
          "output_type": "stream",
          "name": "stdout",
          "text": [
            "260\n",
            "reviews for  followmyhealth\n"
          ]
        },
        {
          "output_type": "stream",
          "name": "stderr",
          "text": [
            "<ipython-input-4-112eeeb294e0>:14: FutureWarning: The frame.append method is deprecated and will be removed from pandas in a future version. Use pandas.concat instead.\n",
            "  df1 = df1.append(new_df1[:250],ignore_index= True)\n"
          ]
        },
        {
          "output_type": "stream",
          "name": "stdout",
          "text": [
            "260\n",
            "reviews for  mychart\n"
          ]
        },
        {
          "output_type": "stream",
          "name": "stderr",
          "text": [
            "<ipython-input-4-112eeeb294e0>:14: FutureWarning: The frame.append method is deprecated and will be removed from pandas in a future version. Use pandas.concat instead.\n",
            "  df1 = df1.append(new_df1[:250],ignore_index= True)\n"
          ]
        },
        {
          "output_type": "stream",
          "name": "stdout",
          "text": [
            "260\n",
            "reviews for  healow\n"
          ]
        },
        {
          "output_type": "stream",
          "name": "stderr",
          "text": [
            "<ipython-input-4-112eeeb294e0>:14: FutureWarning: The frame.append method is deprecated and will be removed from pandas in a future version. Use pandas.concat instead.\n",
            "  df1 = df1.append(new_df1[:250],ignore_index= True)\n"
          ]
        },
        {
          "output_type": "stream",
          "name": "stdout",
          "text": [
            "260\n",
            "reviews for  myfitnesspal\n"
          ]
        },
        {
          "output_type": "stream",
          "name": "stderr",
          "text": [
            "<ipython-input-4-112eeeb294e0>:14: FutureWarning: The frame.append method is deprecated and will be removed from pandas in a future version. Use pandas.concat instead.\n",
            "  df1 = df1.append(new_df1[:250],ignore_index= True)\n"
          ]
        },
        {
          "output_type": "stream",
          "name": "stdout",
          "text": [
            "260\n",
            "reviews for  noom\n"
          ]
        },
        {
          "output_type": "stream",
          "name": "stderr",
          "text": [
            "<ipython-input-4-112eeeb294e0>:14: FutureWarning: The frame.append method is deprecated and will be removed from pandas in a future version. Use pandas.concat instead.\n",
            "  df1 = df1.append(new_df1[:250],ignore_index= True)\n"
          ]
        }
      ]
    },
    {
      "cell_type": "code",
      "source": [
        "df1.to_csv(\"ios-Healthcare-0-0.csv\")"
      ],
      "metadata": {
        "id": "-kxUVjS_OWDi"
      },
      "execution_count": null,
      "outputs": []
    },
    {
      "cell_type": "code",
      "source": [
        "app_list= [\"zocdoc\",\"betterhelp\",\"express scripts\",\"talkspace therapy & counseling\",\"happify\",\"followmyhealth\",\"mychart\",\"healow\",\"myfitnesspal\",\"noom\",\"myplate\",\"fitbit\",\"flo\",\"nike run club\",\"peloton\",\"period tracker\",\"23andme\",\"mycigna\",\"fitnesscoach\",\"calm\",\"pregnancy+\",\"drondemand\",\"blood donor american red cross\",\"GoodRx: Prescription Saver\",\"APPatient\",\"my invisalign\",\"va: health and benefits\",\"pulsepoint respond\",\"csl plasma\",\"Telehealth by SimplePractice\",\"MyQuest for Patients\",\"Sydney Health\",\"Weedmaps: Cannabis, Weed & CBD\",\"Leafly: Find Weed Near You\"]\n",
        "print(\"Num of apps to scrape : \",len(app_list)+1)\n",
        "from app_store_scraper import AppStore\n",
        "from pprint import pprint\n",
        "for i in app_list[10:]:\n",
        "  app = AppStore(country=\"us\", app_name=i)\n",
        "  app.review(how_many=250)\n",
        "\n",
        "  #pprint(minecraft.reviews)\n",
        "  pprint(app.reviews_count)\n",
        "  print(\"reviews for \",i)\n",
        "  new_df1= pd.DataFrame(app.reviews)\n",
        "  new_df1[\"App Name\"] = i\n",
        "  df1 = df1.append(new_df1[:250],ignore_index= True)\n",
        "  time.sleep(60)"
      ],
      "metadata": {
        "colab": {
          "base_uri": "https://localhost:8080/"
        },
        "id": "RHqWy8iaQtR8",
        "outputId": "f1b88562-628a-4a29-f2bb-01b5d3a5d69f"
      },
      "execution_count": null,
      "outputs": [
        {
          "metadata": {
            "tags": null
          },
          "name": "stdout",
          "output_type": "stream",
          "text": [
            "Num of apps to scrape :  35\n",
            "260\n",
            "reviews for  myplate\n"
          ]
        },
        {
          "metadata": {
            "tags": null
          },
          "name": "stderr",
          "output_type": "stream",
          "text": [
            "<ipython-input-6-67b8901111c7>:14: FutureWarning: The frame.append method is deprecated and will be removed from pandas in a future version. Use pandas.concat instead.\n",
            "  df1 = df1.append(new_df1[:250],ignore_index= True)\n"
          ]
        },
        {
          "metadata": {
            "tags": null
          },
          "name": "stdout",
          "output_type": "stream",
          "text": [
            "260\n",
            "reviews for  fitbit\n"
          ]
        },
        {
          "metadata": {
            "tags": null
          },
          "name": "stderr",
          "output_type": "stream",
          "text": [
            "<ipython-input-6-67b8901111c7>:14: FutureWarning: The frame.append method is deprecated and will be removed from pandas in a future version. Use pandas.concat instead.\n",
            "  df1 = df1.append(new_df1[:250],ignore_index= True)\n"
          ]
        },
        {
          "metadata": {
            "tags": null
          },
          "name": "stdout",
          "output_type": "stream",
          "text": [
            "260\n",
            "reviews for  flo\n"
          ]
        },
        {
          "metadata": {
            "tags": null
          },
          "name": "stderr",
          "output_type": "stream",
          "text": [
            "<ipython-input-6-67b8901111c7>:14: FutureWarning: The frame.append method is deprecated and will be removed from pandas in a future version. Use pandas.concat instead.\n",
            "  df1 = df1.append(new_df1[:250],ignore_index= True)\n"
          ]
        },
        {
          "metadata": {
            "tags": null
          },
          "name": "stdout",
          "output_type": "stream",
          "text": [
            "260\n",
            "reviews for  nike run club\n"
          ]
        },
        {
          "metadata": {
            "tags": null
          },
          "name": "stderr",
          "output_type": "stream",
          "text": [
            "<ipython-input-6-67b8901111c7>:14: FutureWarning: The frame.append method is deprecated and will be removed from pandas in a future version. Use pandas.concat instead.\n",
            "  df1 = df1.append(new_df1[:250],ignore_index= True)\n"
          ]
        },
        {
          "metadata": {
            "tags": null
          },
          "name": "stdout",
          "output_type": "stream",
          "text": [
            "260\n",
            "reviews for  peloton\n"
          ]
        },
        {
          "metadata": {
            "tags": null
          },
          "name": "stderr",
          "output_type": "stream",
          "text": [
            "<ipython-input-6-67b8901111c7>:14: FutureWarning: The frame.append method is deprecated and will be removed from pandas in a future version. Use pandas.concat instead.\n",
            "  df1 = df1.append(new_df1[:250],ignore_index= True)\n"
          ]
        },
        {
          "metadata": {
            "tags": null
          },
          "name": "stdout",
          "output_type": "stream",
          "text": [
            "260\n",
            "reviews for  period tracker\n"
          ]
        },
        {
          "metadata": {
            "tags": null
          },
          "name": "stderr",
          "output_type": "stream",
          "text": [
            "<ipython-input-6-67b8901111c7>:14: FutureWarning: The frame.append method is deprecated and will be removed from pandas in a future version. Use pandas.concat instead.\n",
            "  df1 = df1.append(new_df1[:250],ignore_index= True)\n"
          ]
        },
        {
          "metadata": {
            "tags": null
          },
          "name": "stdout",
          "output_type": "stream",
          "text": [
            "260\n",
            "reviews for  23andme\n"
          ]
        },
        {
          "metadata": {
            "tags": null
          },
          "name": "stderr",
          "output_type": "stream",
          "text": [
            "<ipython-input-6-67b8901111c7>:14: FutureWarning: The frame.append method is deprecated and will be removed from pandas in a future version. Use pandas.concat instead.\n",
            "  df1 = df1.append(new_df1[:250],ignore_index= True)\n"
          ]
        },
        {
          "metadata": {
            "tags": null
          },
          "name": "stdout",
          "output_type": "stream",
          "text": [
            "260\n",
            "reviews for  mycigna\n"
          ]
        },
        {
          "metadata": {
            "tags": null
          },
          "name": "stderr",
          "output_type": "stream",
          "text": [
            "<ipython-input-6-67b8901111c7>:14: FutureWarning: The frame.append method is deprecated and will be removed from pandas in a future version. Use pandas.concat instead.\n",
            "  df1 = df1.append(new_df1[:250],ignore_index= True)\n"
          ]
        },
        {
          "metadata": {
            "tags": null
          },
          "name": "stdout",
          "output_type": "stream",
          "text": [
            "260\n",
            "reviews for  fitnesscoach\n"
          ]
        },
        {
          "metadata": {
            "tags": null
          },
          "name": "stderr",
          "output_type": "stream",
          "text": [
            "<ipython-input-6-67b8901111c7>:14: FutureWarning: The frame.append method is deprecated and will be removed from pandas in a future version. Use pandas.concat instead.\n",
            "  df1 = df1.append(new_df1[:250],ignore_index= True)\n"
          ]
        },
        {
          "metadata": {
            "tags": null
          },
          "name": "stdout",
          "output_type": "stream",
          "text": [
            "260\n",
            "reviews for  calm\n"
          ]
        },
        {
          "metadata": {
            "tags": null
          },
          "name": "stderr",
          "output_type": "stream",
          "text": [
            "<ipython-input-6-67b8901111c7>:14: FutureWarning: The frame.append method is deprecated and will be removed from pandas in a future version. Use pandas.concat instead.\n",
            "  df1 = df1.append(new_df1[:250],ignore_index= True)\n"
          ]
        },
        {
          "metadata": {
            "tags": null
          },
          "name": "stdout",
          "output_type": "stream",
          "text": [
            "260\n",
            "reviews for  pregnancy+\n"
          ]
        },
        {
          "metadata": {
            "tags": null
          },
          "name": "stderr",
          "output_type": "stream",
          "text": [
            "<ipython-input-6-67b8901111c7>:14: FutureWarning: The frame.append method is deprecated and will be removed from pandas in a future version. Use pandas.concat instead.\n",
            "  df1 = df1.append(new_df1[:250],ignore_index= True)\n"
          ]
        },
        {
          "metadata": {
            "tags": null
          },
          "name": "stdout",
          "output_type": "stream",
          "text": [
            "260\n",
            "reviews for  drondemand\n"
          ]
        },
        {
          "metadata": {
            "tags": null
          },
          "name": "stderr",
          "output_type": "stream",
          "text": [
            "<ipython-input-6-67b8901111c7>:14: FutureWarning: The frame.append method is deprecated and will be removed from pandas in a future version. Use pandas.concat instead.\n",
            "  df1 = df1.append(new_df1[:250],ignore_index= True)\n"
          ]
        },
        {
          "metadata": {
            "tags": null
          },
          "name": "stdout",
          "output_type": "stream",
          "text": [
            "260\n",
            "reviews for  blood donor american red cross\n"
          ]
        },
        {
          "metadata": {
            "tags": null
          },
          "name": "stderr",
          "output_type": "stream",
          "text": [
            "<ipython-input-6-67b8901111c7>:14: FutureWarning: The frame.append method is deprecated and will be removed from pandas in a future version. Use pandas.concat instead.\n",
            "  df1 = df1.append(new_df1[:250],ignore_index= True)\n"
          ]
        },
        {
          "metadata": {
            "tags": null
          },
          "name": "stdout",
          "output_type": "stream",
          "text": [
            "260\n",
            "reviews for  GoodRx: Prescription Saver\n"
          ]
        },
        {
          "metadata": {
            "tags": null
          },
          "name": "stderr",
          "output_type": "stream",
          "text": [
            "<ipython-input-6-67b8901111c7>:14: FutureWarning: The frame.append method is deprecated and will be removed from pandas in a future version. Use pandas.concat instead.\n",
            "  df1 = df1.append(new_df1[:250],ignore_index= True)\n"
          ]
        },
        {
          "metadata": {
            "tags": null
          },
          "name": "stdout",
          "output_type": "stream",
          "text": [
            "260\n",
            "reviews for  APPatient\n"
          ]
        },
        {
          "metadata": {
            "tags": null
          },
          "name": "stderr",
          "output_type": "stream",
          "text": [
            "<ipython-input-6-67b8901111c7>:14: FutureWarning: The frame.append method is deprecated and will be removed from pandas in a future version. Use pandas.concat instead.\n",
            "  df1 = df1.append(new_df1[:250],ignore_index= True)\n"
          ]
        },
        {
          "metadata": {
            "tags": null
          },
          "name": "stdout",
          "output_type": "stream",
          "text": [
            "260\n",
            "reviews for  my invisalign\n"
          ]
        },
        {
          "metadata": {
            "tags": null
          },
          "name": "stderr",
          "output_type": "stream",
          "text": [
            "<ipython-input-6-67b8901111c7>:14: FutureWarning: The frame.append method is deprecated and will be removed from pandas in a future version. Use pandas.concat instead.\n",
            "  df1 = df1.append(new_df1[:250],ignore_index= True)\n"
          ]
        },
        {
          "metadata": {
            "tags": null
          },
          "name": "stdout",
          "output_type": "stream",
          "text": [
            "260\n",
            "reviews for  va: health and benefits\n"
          ]
        },
        {
          "metadata": {
            "tags": null
          },
          "name": "stderr",
          "output_type": "stream",
          "text": [
            "<ipython-input-6-67b8901111c7>:14: FutureWarning: The frame.append method is deprecated and will be removed from pandas in a future version. Use pandas.concat instead.\n",
            "  df1 = df1.append(new_df1[:250],ignore_index= True)\n"
          ]
        },
        {
          "metadata": {
            "tags": null
          },
          "name": "stdout",
          "output_type": "stream",
          "text": [
            "260\n",
            "reviews for  pulsepoint respond\n"
          ]
        },
        {
          "metadata": {
            "tags": null
          },
          "name": "stderr",
          "output_type": "stream",
          "text": [
            "<ipython-input-6-67b8901111c7>:14: FutureWarning: The frame.append method is deprecated and will be removed from pandas in a future version. Use pandas.concat instead.\n",
            "  df1 = df1.append(new_df1[:250],ignore_index= True)\n"
          ]
        },
        {
          "output_type": "stream",
          "name": "stdout",
          "text": [
            "171\n",
            "reviews for  csl plasma\n"
          ]
        },
        {
          "output_type": "stream",
          "name": "stderr",
          "text": [
            "<ipython-input-6-67b8901111c7>:14: FutureWarning: The frame.append method is deprecated and will be removed from pandas in a future version. Use pandas.concat instead.\n",
            "  df1 = df1.append(new_df1[:250],ignore_index= True)\n"
          ]
        },
        {
          "output_type": "stream",
          "name": "stdout",
          "text": [
            "260\n",
            "reviews for  Telehealth by SimplePractice\n"
          ]
        },
        {
          "output_type": "stream",
          "name": "stderr",
          "text": [
            "<ipython-input-6-67b8901111c7>:14: FutureWarning: The frame.append method is deprecated and will be removed from pandas in a future version. Use pandas.concat instead.\n",
            "  df1 = df1.append(new_df1[:250],ignore_index= True)\n"
          ]
        },
        {
          "output_type": "stream",
          "name": "stdout",
          "text": [
            "260\n",
            "reviews for  MyQuest for Patients\n"
          ]
        },
        {
          "output_type": "stream",
          "name": "stderr",
          "text": [
            "<ipython-input-6-67b8901111c7>:14: FutureWarning: The frame.append method is deprecated and will be removed from pandas in a future version. Use pandas.concat instead.\n",
            "  df1 = df1.append(new_df1[:250],ignore_index= True)\n"
          ]
        },
        {
          "output_type": "stream",
          "name": "stdout",
          "text": [
            "260\n",
            "reviews for  Sydney Health\n"
          ]
        },
        {
          "output_type": "stream",
          "name": "stderr",
          "text": [
            "<ipython-input-6-67b8901111c7>:14: FutureWarning: The frame.append method is deprecated and will be removed from pandas in a future version. Use pandas.concat instead.\n",
            "  df1 = df1.append(new_df1[:250],ignore_index= True)\n"
          ]
        },
        {
          "output_type": "stream",
          "name": "stdout",
          "text": [
            "260\n",
            "reviews for  Weedmaps: Cannabis, Weed & CBD\n"
          ]
        },
        {
          "output_type": "stream",
          "name": "stderr",
          "text": [
            "<ipython-input-6-67b8901111c7>:14: FutureWarning: The frame.append method is deprecated and will be removed from pandas in a future version. Use pandas.concat instead.\n",
            "  df1 = df1.append(new_df1[:250],ignore_index= True)\n"
          ]
        },
        {
          "output_type": "stream",
          "name": "stdout",
          "text": [
            "260\n",
            "reviews for  Leafly: Find Weed Near You\n"
          ]
        },
        {
          "output_type": "stream",
          "name": "stderr",
          "text": [
            "<ipython-input-6-67b8901111c7>:14: FutureWarning: The frame.append method is deprecated and will be removed from pandas in a future version. Use pandas.concat instead.\n",
            "  df1 = df1.append(new_df1[:250],ignore_index= True)\n"
          ]
        }
      ]
    },
    {
      "cell_type": "code",
      "source": [
        "df1.to_csv(\"ios-HealthcareAll.csv\")"
      ],
      "metadata": {
        "id": "vtb8ARjQRK3C"
      },
      "execution_count": null,
      "outputs": []
    },
    {
      "cell_type": "code",
      "source": [
        "df1"
      ],
      "metadata": {
        "colab": {
          "base_uri": "https://localhost:8080/",
          "height": 936
        },
        "id": "f1zZag7DReRC",
        "outputId": "2db4b87f-e9af-44a5-b2a8-2afc9d94291a"
      },
      "execution_count": null,
      "outputs": [
        {
          "output_type": "execute_result",
          "data": {
            "text/plain": [
              "                    date                                             review  \\\n",
              "0    2020-10-11 02:50:35  This app is one of the strangest things I’ve e...   \n",
              "1    2022-05-13 21:07:55  Except there’s a lot that needs to be worked o...   \n",
              "2    2020-09-24 02:47:16  I tried all the rest and I got to say hands do...   \n",
              "3    2018-05-19 12:22:08  Some doctors on here seem hesitant to do anyth...   \n",
              "4    2021-07-29 16:50:33  I feel Teladoc as a whole is great in theory r...   \n",
              "...                  ...                                                ...   \n",
              "8666 2022-10-17 18:54:09  I’m writing to let you know that your latest v...   \n",
              "8667 2021-07-23 15:38:18  I noticed that when I switched to the Leafly a...   \n",
              "8668 2019-10-12 01:41:19  I used to love this App yet now the way he eff...   \n",
              "8669 2018-02-18 05:51:12  This app rocks with dispensaries now added wit...   \n",
              "8670 2022-04-28 12:53:15  This app is my go to for research! I have beco...   \n",
              "\n",
              "      rating  isEdited                                              title  \\\n",
              "0          5     False                               My invoice says $0??   \n",
              "1          5     False                    Great for general medical care…   \n",
              "2          5     False                              This APP delivered!!!   \n",
              "3          2     False                  It’s hit or miss with the doctors   \n",
              "4          3     False          Multiple Unreliable Physician Experiences   \n",
              "...      ...       ...                                                ...   \n",
              "8666       1     False                   New site appearance and features   \n",
              "8667       1     False        Leafly is grabbing data from your clipboard   \n",
              "8668       1     False                                     What happened?   \n",
              "8669       5     False  The 420 go to for any An all info on all thing...   \n",
              "8670       5     False                                      Loving Leafly   \n",
              "\n",
              "             userName                                  developerResponse  \\\n",
              "0           Puzels445                                                NaN   \n",
              "1           Breathe75                                                NaN   \n",
              "2          AnimatiCKS  {'id': 18182265, 'body': 'Thank you for your f...   \n",
              "3              kcnray                                                NaN   \n",
              "4              b-abba  {'id': 24359785, 'body': 'Hi there, We are so ...   \n",
              "...               ...                                                ...   \n",
              "8666         10474$(!                                                NaN   \n",
              "8667     LoadedPistil                                                NaN   \n",
              "8668          1Shydad                                                NaN   \n",
              "8669  FRATER ROTUS666                                                NaN   \n",
              "8670    Emme Elle Cee                                                NaN   \n",
              "\n",
              "                        App Name  \n",
              "0                        teladoc  \n",
              "1                        teladoc  \n",
              "2                        teladoc  \n",
              "3                        teladoc  \n",
              "4                        teladoc  \n",
              "...                          ...  \n",
              "8666  Leafly: Find Weed Near You  \n",
              "8667  Leafly: Find Weed Near You  \n",
              "8668  Leafly: Find Weed Near You  \n",
              "8669  Leafly: Find Weed Near You  \n",
              "8670  Leafly: Find Weed Near You  \n",
              "\n",
              "[8671 rows x 8 columns]"
            ],
            "text/html": [
              "\n",
              "  <div id=\"df-48a74a55-3d81-457a-9b7a-b84a782ef1ca\">\n",
              "    <div class=\"colab-df-container\">\n",
              "      <div>\n",
              "<style scoped>\n",
              "    .dataframe tbody tr th:only-of-type {\n",
              "        vertical-align: middle;\n",
              "    }\n",
              "\n",
              "    .dataframe tbody tr th {\n",
              "        vertical-align: top;\n",
              "    }\n",
              "\n",
              "    .dataframe thead th {\n",
              "        text-align: right;\n",
              "    }\n",
              "</style>\n",
              "<table border=\"1\" class=\"dataframe\">\n",
              "  <thead>\n",
              "    <tr style=\"text-align: right;\">\n",
              "      <th></th>\n",
              "      <th>date</th>\n",
              "      <th>review</th>\n",
              "      <th>rating</th>\n",
              "      <th>isEdited</th>\n",
              "      <th>title</th>\n",
              "      <th>userName</th>\n",
              "      <th>developerResponse</th>\n",
              "      <th>App Name</th>\n",
              "    </tr>\n",
              "  </thead>\n",
              "  <tbody>\n",
              "    <tr>\n",
              "      <th>0</th>\n",
              "      <td>2020-10-11 02:50:35</td>\n",
              "      <td>This app is one of the strangest things I’ve e...</td>\n",
              "      <td>5</td>\n",
              "      <td>False</td>\n",
              "      <td>My invoice says $0??</td>\n",
              "      <td>Puzels445</td>\n",
              "      <td>NaN</td>\n",
              "      <td>teladoc</td>\n",
              "    </tr>\n",
              "    <tr>\n",
              "      <th>1</th>\n",
              "      <td>2022-05-13 21:07:55</td>\n",
              "      <td>Except there’s a lot that needs to be worked o...</td>\n",
              "      <td>5</td>\n",
              "      <td>False</td>\n",
              "      <td>Great for general medical care…</td>\n",
              "      <td>Breathe75</td>\n",
              "      <td>NaN</td>\n",
              "      <td>teladoc</td>\n",
              "    </tr>\n",
              "    <tr>\n",
              "      <th>2</th>\n",
              "      <td>2020-09-24 02:47:16</td>\n",
              "      <td>I tried all the rest and I got to say hands do...</td>\n",
              "      <td>5</td>\n",
              "      <td>False</td>\n",
              "      <td>This APP delivered!!!</td>\n",
              "      <td>AnimatiCKS</td>\n",
              "      <td>{'id': 18182265, 'body': 'Thank you for your f...</td>\n",
              "      <td>teladoc</td>\n",
              "    </tr>\n",
              "    <tr>\n",
              "      <th>3</th>\n",
              "      <td>2018-05-19 12:22:08</td>\n",
              "      <td>Some doctors on here seem hesitant to do anyth...</td>\n",
              "      <td>2</td>\n",
              "      <td>False</td>\n",
              "      <td>It’s hit or miss with the doctors</td>\n",
              "      <td>kcnray</td>\n",
              "      <td>NaN</td>\n",
              "      <td>teladoc</td>\n",
              "    </tr>\n",
              "    <tr>\n",
              "      <th>4</th>\n",
              "      <td>2021-07-29 16:50:33</td>\n",
              "      <td>I feel Teladoc as a whole is great in theory r...</td>\n",
              "      <td>3</td>\n",
              "      <td>False</td>\n",
              "      <td>Multiple Unreliable Physician Experiences</td>\n",
              "      <td>b-abba</td>\n",
              "      <td>{'id': 24359785, 'body': 'Hi there, We are so ...</td>\n",
              "      <td>teladoc</td>\n",
              "    </tr>\n",
              "    <tr>\n",
              "      <th>...</th>\n",
              "      <td>...</td>\n",
              "      <td>...</td>\n",
              "      <td>...</td>\n",
              "      <td>...</td>\n",
              "      <td>...</td>\n",
              "      <td>...</td>\n",
              "      <td>...</td>\n",
              "      <td>...</td>\n",
              "    </tr>\n",
              "    <tr>\n",
              "      <th>8666</th>\n",
              "      <td>2022-10-17 18:54:09</td>\n",
              "      <td>I’m writing to let you know that your latest v...</td>\n",
              "      <td>1</td>\n",
              "      <td>False</td>\n",
              "      <td>New site appearance and features</td>\n",
              "      <td>10474$(!</td>\n",
              "      <td>NaN</td>\n",
              "      <td>Leafly: Find Weed Near You</td>\n",
              "    </tr>\n",
              "    <tr>\n",
              "      <th>8667</th>\n",
              "      <td>2021-07-23 15:38:18</td>\n",
              "      <td>I noticed that when I switched to the Leafly a...</td>\n",
              "      <td>1</td>\n",
              "      <td>False</td>\n",
              "      <td>Leafly is grabbing data from your clipboard</td>\n",
              "      <td>LoadedPistil</td>\n",
              "      <td>NaN</td>\n",
              "      <td>Leafly: Find Weed Near You</td>\n",
              "    </tr>\n",
              "    <tr>\n",
              "      <th>8668</th>\n",
              "      <td>2019-10-12 01:41:19</td>\n",
              "      <td>I used to love this App yet now the way he eff...</td>\n",
              "      <td>1</td>\n",
              "      <td>False</td>\n",
              "      <td>What happened?</td>\n",
              "      <td>1Shydad</td>\n",
              "      <td>NaN</td>\n",
              "      <td>Leafly: Find Weed Near You</td>\n",
              "    </tr>\n",
              "    <tr>\n",
              "      <th>8669</th>\n",
              "      <td>2018-02-18 05:51:12</td>\n",
              "      <td>This app rocks with dispensaries now added wit...</td>\n",
              "      <td>5</td>\n",
              "      <td>False</td>\n",
              "      <td>The 420 go to for any An all info on all thing...</td>\n",
              "      <td>FRATER ROTUS666</td>\n",
              "      <td>NaN</td>\n",
              "      <td>Leafly: Find Weed Near You</td>\n",
              "    </tr>\n",
              "    <tr>\n",
              "      <th>8670</th>\n",
              "      <td>2022-04-28 12:53:15</td>\n",
              "      <td>This app is my go to for research! I have beco...</td>\n",
              "      <td>5</td>\n",
              "      <td>False</td>\n",
              "      <td>Loving Leafly</td>\n",
              "      <td>Emme Elle Cee</td>\n",
              "      <td>NaN</td>\n",
              "      <td>Leafly: Find Weed Near You</td>\n",
              "    </tr>\n",
              "  </tbody>\n",
              "</table>\n",
              "<p>8671 rows × 8 columns</p>\n",
              "</div>\n",
              "      <button class=\"colab-df-convert\" onclick=\"convertToInteractive('df-48a74a55-3d81-457a-9b7a-b84a782ef1ca')\"\n",
              "              title=\"Convert this dataframe to an interactive table.\"\n",
              "              style=\"display:none;\">\n",
              "        \n",
              "  <svg xmlns=\"http://www.w3.org/2000/svg\" height=\"24px\"viewBox=\"0 0 24 24\"\n",
              "       width=\"24px\">\n",
              "    <path d=\"M0 0h24v24H0V0z\" fill=\"none\"/>\n",
              "    <path d=\"M18.56 5.44l.94 2.06.94-2.06 2.06-.94-2.06-.94-.94-2.06-.94 2.06-2.06.94zm-11 1L8.5 8.5l.94-2.06 2.06-.94-2.06-.94L8.5 2.5l-.94 2.06-2.06.94zm10 10l.94 2.06.94-2.06 2.06-.94-2.06-.94-.94-2.06-.94 2.06-2.06.94z\"/><path d=\"M17.41 7.96l-1.37-1.37c-.4-.4-.92-.59-1.43-.59-.52 0-1.04.2-1.43.59L10.3 9.45l-7.72 7.72c-.78.78-.78 2.05 0 2.83L4 21.41c.39.39.9.59 1.41.59.51 0 1.02-.2 1.41-.59l7.78-7.78 2.81-2.81c.8-.78.8-2.07 0-2.86zM5.41 20L4 18.59l7.72-7.72 1.47 1.35L5.41 20z\"/>\n",
              "  </svg>\n",
              "      </button>\n",
              "      \n",
              "  <style>\n",
              "    .colab-df-container {\n",
              "      display:flex;\n",
              "      flex-wrap:wrap;\n",
              "      gap: 12px;\n",
              "    }\n",
              "\n",
              "    .colab-df-convert {\n",
              "      background-color: #E8F0FE;\n",
              "      border: none;\n",
              "      border-radius: 50%;\n",
              "      cursor: pointer;\n",
              "      display: none;\n",
              "      fill: #1967D2;\n",
              "      height: 32px;\n",
              "      padding: 0 0 0 0;\n",
              "      width: 32px;\n",
              "    }\n",
              "\n",
              "    .colab-df-convert:hover {\n",
              "      background-color: #E2EBFA;\n",
              "      box-shadow: 0px 1px 2px rgba(60, 64, 67, 0.3), 0px 1px 3px 1px rgba(60, 64, 67, 0.15);\n",
              "      fill: #174EA6;\n",
              "    }\n",
              "\n",
              "    [theme=dark] .colab-df-convert {\n",
              "      background-color: #3B4455;\n",
              "      fill: #D2E3FC;\n",
              "    }\n",
              "\n",
              "    [theme=dark] .colab-df-convert:hover {\n",
              "      background-color: #434B5C;\n",
              "      box-shadow: 0px 1px 3px 1px rgba(0, 0, 0, 0.15);\n",
              "      filter: drop-shadow(0px 1px 2px rgba(0, 0, 0, 0.3));\n",
              "      fill: #FFFFFF;\n",
              "    }\n",
              "  </style>\n",
              "\n",
              "      <script>\n",
              "        const buttonEl =\n",
              "          document.querySelector('#df-48a74a55-3d81-457a-9b7a-b84a782ef1ca button.colab-df-convert');\n",
              "        buttonEl.style.display =\n",
              "          google.colab.kernel.accessAllowed ? 'block' : 'none';\n",
              "\n",
              "        async function convertToInteractive(key) {\n",
              "          const element = document.querySelector('#df-48a74a55-3d81-457a-9b7a-b84a782ef1ca');\n",
              "          const dataTable =\n",
              "            await google.colab.kernel.invokeFunction('convertToInteractive',\n",
              "                                                     [key], {});\n",
              "          if (!dataTable) return;\n",
              "\n",
              "          const docLinkHtml = 'Like what you see? Visit the ' +\n",
              "            '<a target=\"_blank\" href=https://colab.research.google.com/notebooks/data_table.ipynb>data table notebook</a>'\n",
              "            + ' to learn more about interactive tables.';\n",
              "          element.innerHTML = '';\n",
              "          dataTable['output_type'] = 'display_data';\n",
              "          await google.colab.output.renderOutput(dataTable, element);\n",
              "          const docLink = document.createElement('div');\n",
              "          docLink.innerHTML = docLinkHtml;\n",
              "          element.appendChild(docLink);\n",
              "        }\n",
              "      </script>\n",
              "    </div>\n",
              "  </div>\n",
              "  "
            ]
          },
          "metadata": {},
          "execution_count": 8
        }
      ]
    },
    {
      "cell_type": "code",
      "source": [
        "app_list= [\"Alle\"]\n",
        "print(\"Num of apps to scrape : \",len(app_list)+1)\n",
        "from app_store_scraper import AppStore\n",
        "from pprint import pprint\n",
        "for i in app_list:\n",
        "  app = AppStore(country=\"us\", app_name=i)\n",
        "  app.review(how_many=250)\n",
        "\n",
        "  #pprint(minecraft.reviews)\n",
        "  pprint(app.reviews_count)\n",
        "  print(\"reviews for \",i)\n",
        "  new_df1= pd.DataFrame(app.reviews)\n",
        "  new_df1[\"App Name\"] = i\n",
        "  df1 = df1.append(new_df1[:250],ignore_index= True)\n",
        "  time.sleep(60)"
      ],
      "metadata": {
        "colab": {
          "base_uri": "https://localhost:8080/"
        },
        "id": "sY-bK_k7XCbj",
        "outputId": "9625e582-136e-4a0b-f9ef-3c4aa6493d01"
      },
      "execution_count": null,
      "outputs": [
        {
          "output_type": "stream",
          "name": "stdout",
          "text": [
            "Num of apps to scrape :  2\n",
            "260\n",
            "reviews for  Alle\n"
          ]
        },
        {
          "output_type": "stream",
          "name": "stderr",
          "text": [
            "<ipython-input-12-3133830b3d8e>:14: FutureWarning: The frame.append method is deprecated and will be removed from pandas in a future version. Use pandas.concat instead.\n",
            "  df1 = df1.append(new_df1[:250],ignore_index= True)\n"
          ]
        }
      ]
    },
    {
      "cell_type": "code",
      "source": [
        "df1"
      ],
      "metadata": {
        "colab": {
          "base_uri": "https://localhost:8080/",
          "height": 849
        },
        "id": "mlWgTvxQXRwU",
        "outputId": "c5ff4d3c-b063-4746-8b58-93984401db2e"
      },
      "execution_count": null,
      "outputs": [
        {
          "output_type": "execute_result",
          "data": {
            "text/plain": [
              "                    date                                             review  \\\n",
              "0    2020-10-11 02:50:35  This app is one of the strangest things I’ve e...   \n",
              "1    2022-05-13 21:07:55  Except there’s a lot that needs to be worked o...   \n",
              "2    2020-09-24 02:47:16  I tried all the rest and I got to say hands do...   \n",
              "3    2018-05-19 12:22:08  Some doctors on here seem hesitant to do anyth...   \n",
              "4    2021-07-29 16:50:33  I feel Teladoc as a whole is great in theory r...   \n",
              "...                  ...                                                ...   \n",
              "8916 2019-01-15 22:36:59  I’ve tried all the methods asked for and none ...   \n",
              "8917 2018-12-17 20:04:27  Downloaded this app only so I could get the 10...   \n",
              "8918 2020-12-10 17:22:38  Bring back BD - this app is not user friendly ...   \n",
              "8919 2020-02-11 18:18:16  Don’t let them fool you, you’re not getting th...   \n",
              "8920 2017-09-09 17:49:26  Can't download nor does it take off from the l...   \n",
              "\n",
              "      rating  isEdited                                      title    userName  \\\n",
              "0          5     False                       My invoice says $0??   Puzels445   \n",
              "1          5     False            Great for general medical care…   Breathe75   \n",
              "2          5     False                      This APP delivered!!!  AnimatiCKS   \n",
              "3          2     False          It’s hit or miss with the doctors      kcnray   \n",
              "4          3     False  Multiple Unreliable Physician Experiences      b-abba   \n",
              "...      ...       ...                                        ...         ...   \n",
              "8916       1     False                           App doesn’t work      pab131   \n",
              "8917       1     False                                      Bogus   JoanneT33   \n",
              "8918       1     False                                   Horrible    Cortni:)   \n",
              "8919       1     False                    Where is my $10 reward?   Mariondms   \n",
              "8920       1     False                               Doesn't work  Bouboulina   \n",
              "\n",
              "                                      developerResponse App Name  \n",
              "0                                                   NaN  teladoc  \n",
              "1                                                   NaN  teladoc  \n",
              "2     {'id': 18182265, 'body': 'Thank you for your f...  teladoc  \n",
              "3                                                   NaN  teladoc  \n",
              "4     {'id': 24359785, 'body': 'Hi there, We are so ...  teladoc  \n",
              "...                                                 ...      ...  \n",
              "8916                                                NaN     Alle  \n",
              "8917                                                NaN     Alle  \n",
              "8918                                                NaN     Alle  \n",
              "8919                                                NaN     Alle  \n",
              "8920                                                NaN     Alle  \n",
              "\n",
              "[8921 rows x 8 columns]"
            ],
            "text/html": [
              "\n",
              "  <div id=\"df-03d4b974-18c0-4ddf-a5ca-00bca3644458\">\n",
              "    <div class=\"colab-df-container\">\n",
              "      <div>\n",
              "<style scoped>\n",
              "    .dataframe tbody tr th:only-of-type {\n",
              "        vertical-align: middle;\n",
              "    }\n",
              "\n",
              "    .dataframe tbody tr th {\n",
              "        vertical-align: top;\n",
              "    }\n",
              "\n",
              "    .dataframe thead th {\n",
              "        text-align: right;\n",
              "    }\n",
              "</style>\n",
              "<table border=\"1\" class=\"dataframe\">\n",
              "  <thead>\n",
              "    <tr style=\"text-align: right;\">\n",
              "      <th></th>\n",
              "      <th>date</th>\n",
              "      <th>review</th>\n",
              "      <th>rating</th>\n",
              "      <th>isEdited</th>\n",
              "      <th>title</th>\n",
              "      <th>userName</th>\n",
              "      <th>developerResponse</th>\n",
              "      <th>App Name</th>\n",
              "    </tr>\n",
              "  </thead>\n",
              "  <tbody>\n",
              "    <tr>\n",
              "      <th>0</th>\n",
              "      <td>2020-10-11 02:50:35</td>\n",
              "      <td>This app is one of the strangest things I’ve e...</td>\n",
              "      <td>5</td>\n",
              "      <td>False</td>\n",
              "      <td>My invoice says $0??</td>\n",
              "      <td>Puzels445</td>\n",
              "      <td>NaN</td>\n",
              "      <td>teladoc</td>\n",
              "    </tr>\n",
              "    <tr>\n",
              "      <th>1</th>\n",
              "      <td>2022-05-13 21:07:55</td>\n",
              "      <td>Except there’s a lot that needs to be worked o...</td>\n",
              "      <td>5</td>\n",
              "      <td>False</td>\n",
              "      <td>Great for general medical care…</td>\n",
              "      <td>Breathe75</td>\n",
              "      <td>NaN</td>\n",
              "      <td>teladoc</td>\n",
              "    </tr>\n",
              "    <tr>\n",
              "      <th>2</th>\n",
              "      <td>2020-09-24 02:47:16</td>\n",
              "      <td>I tried all the rest and I got to say hands do...</td>\n",
              "      <td>5</td>\n",
              "      <td>False</td>\n",
              "      <td>This APP delivered!!!</td>\n",
              "      <td>AnimatiCKS</td>\n",
              "      <td>{'id': 18182265, 'body': 'Thank you for your f...</td>\n",
              "      <td>teladoc</td>\n",
              "    </tr>\n",
              "    <tr>\n",
              "      <th>3</th>\n",
              "      <td>2018-05-19 12:22:08</td>\n",
              "      <td>Some doctors on here seem hesitant to do anyth...</td>\n",
              "      <td>2</td>\n",
              "      <td>False</td>\n",
              "      <td>It’s hit or miss with the doctors</td>\n",
              "      <td>kcnray</td>\n",
              "      <td>NaN</td>\n",
              "      <td>teladoc</td>\n",
              "    </tr>\n",
              "    <tr>\n",
              "      <th>4</th>\n",
              "      <td>2021-07-29 16:50:33</td>\n",
              "      <td>I feel Teladoc as a whole is great in theory r...</td>\n",
              "      <td>3</td>\n",
              "      <td>False</td>\n",
              "      <td>Multiple Unreliable Physician Experiences</td>\n",
              "      <td>b-abba</td>\n",
              "      <td>{'id': 24359785, 'body': 'Hi there, We are so ...</td>\n",
              "      <td>teladoc</td>\n",
              "    </tr>\n",
              "    <tr>\n",
              "      <th>...</th>\n",
              "      <td>...</td>\n",
              "      <td>...</td>\n",
              "      <td>...</td>\n",
              "      <td>...</td>\n",
              "      <td>...</td>\n",
              "      <td>...</td>\n",
              "      <td>...</td>\n",
              "      <td>...</td>\n",
              "    </tr>\n",
              "    <tr>\n",
              "      <th>8916</th>\n",
              "      <td>2019-01-15 22:36:59</td>\n",
              "      <td>I’ve tried all the methods asked for and none ...</td>\n",
              "      <td>1</td>\n",
              "      <td>False</td>\n",
              "      <td>App doesn’t work</td>\n",
              "      <td>pab131</td>\n",
              "      <td>NaN</td>\n",
              "      <td>Alle</td>\n",
              "    </tr>\n",
              "    <tr>\n",
              "      <th>8917</th>\n",
              "      <td>2018-12-17 20:04:27</td>\n",
              "      <td>Downloaded this app only so I could get the 10...</td>\n",
              "      <td>1</td>\n",
              "      <td>False</td>\n",
              "      <td>Bogus</td>\n",
              "      <td>JoanneT33</td>\n",
              "      <td>NaN</td>\n",
              "      <td>Alle</td>\n",
              "    </tr>\n",
              "    <tr>\n",
              "      <th>8918</th>\n",
              "      <td>2020-12-10 17:22:38</td>\n",
              "      <td>Bring back BD - this app is not user friendly ...</td>\n",
              "      <td>1</td>\n",
              "      <td>False</td>\n",
              "      <td>Horrible</td>\n",
              "      <td>Cortni:)</td>\n",
              "      <td>NaN</td>\n",
              "      <td>Alle</td>\n",
              "    </tr>\n",
              "    <tr>\n",
              "      <th>8919</th>\n",
              "      <td>2020-02-11 18:18:16</td>\n",
              "      <td>Don’t let them fool you, you’re not getting th...</td>\n",
              "      <td>1</td>\n",
              "      <td>False</td>\n",
              "      <td>Where is my $10 reward?</td>\n",
              "      <td>Mariondms</td>\n",
              "      <td>NaN</td>\n",
              "      <td>Alle</td>\n",
              "    </tr>\n",
              "    <tr>\n",
              "      <th>8920</th>\n",
              "      <td>2017-09-09 17:49:26</td>\n",
              "      <td>Can't download nor does it take off from the l...</td>\n",
              "      <td>1</td>\n",
              "      <td>False</td>\n",
              "      <td>Doesn't work</td>\n",
              "      <td>Bouboulina</td>\n",
              "      <td>NaN</td>\n",
              "      <td>Alle</td>\n",
              "    </tr>\n",
              "  </tbody>\n",
              "</table>\n",
              "<p>8921 rows × 8 columns</p>\n",
              "</div>\n",
              "      <button class=\"colab-df-convert\" onclick=\"convertToInteractive('df-03d4b974-18c0-4ddf-a5ca-00bca3644458')\"\n",
              "              title=\"Convert this dataframe to an interactive table.\"\n",
              "              style=\"display:none;\">\n",
              "        \n",
              "  <svg xmlns=\"http://www.w3.org/2000/svg\" height=\"24px\"viewBox=\"0 0 24 24\"\n",
              "       width=\"24px\">\n",
              "    <path d=\"M0 0h24v24H0V0z\" fill=\"none\"/>\n",
              "    <path d=\"M18.56 5.44l.94 2.06.94-2.06 2.06-.94-2.06-.94-.94-2.06-.94 2.06-2.06.94zm-11 1L8.5 8.5l.94-2.06 2.06-.94-2.06-.94L8.5 2.5l-.94 2.06-2.06.94zm10 10l.94 2.06.94-2.06 2.06-.94-2.06-.94-.94-2.06-.94 2.06-2.06.94z\"/><path d=\"M17.41 7.96l-1.37-1.37c-.4-.4-.92-.59-1.43-.59-.52 0-1.04.2-1.43.59L10.3 9.45l-7.72 7.72c-.78.78-.78 2.05 0 2.83L4 21.41c.39.39.9.59 1.41.59.51 0 1.02-.2 1.41-.59l7.78-7.78 2.81-2.81c.8-.78.8-2.07 0-2.86zM5.41 20L4 18.59l7.72-7.72 1.47 1.35L5.41 20z\"/>\n",
              "  </svg>\n",
              "      </button>\n",
              "      \n",
              "  <style>\n",
              "    .colab-df-container {\n",
              "      display:flex;\n",
              "      flex-wrap:wrap;\n",
              "      gap: 12px;\n",
              "    }\n",
              "\n",
              "    .colab-df-convert {\n",
              "      background-color: #E8F0FE;\n",
              "      border: none;\n",
              "      border-radius: 50%;\n",
              "      cursor: pointer;\n",
              "      display: none;\n",
              "      fill: #1967D2;\n",
              "      height: 32px;\n",
              "      padding: 0 0 0 0;\n",
              "      width: 32px;\n",
              "    }\n",
              "\n",
              "    .colab-df-convert:hover {\n",
              "      background-color: #E2EBFA;\n",
              "      box-shadow: 0px 1px 2px rgba(60, 64, 67, 0.3), 0px 1px 3px 1px rgba(60, 64, 67, 0.15);\n",
              "      fill: #174EA6;\n",
              "    }\n",
              "\n",
              "    [theme=dark] .colab-df-convert {\n",
              "      background-color: #3B4455;\n",
              "      fill: #D2E3FC;\n",
              "    }\n",
              "\n",
              "    [theme=dark] .colab-df-convert:hover {\n",
              "      background-color: #434B5C;\n",
              "      box-shadow: 0px 1px 3px 1px rgba(0, 0, 0, 0.15);\n",
              "      filter: drop-shadow(0px 1px 2px rgba(0, 0, 0, 0.3));\n",
              "      fill: #FFFFFF;\n",
              "    }\n",
              "  </style>\n",
              "\n",
              "      <script>\n",
              "        const buttonEl =\n",
              "          document.querySelector('#df-03d4b974-18c0-4ddf-a5ca-00bca3644458 button.colab-df-convert');\n",
              "        buttonEl.style.display =\n",
              "          google.colab.kernel.accessAllowed ? 'block' : 'none';\n",
              "\n",
              "        async function convertToInteractive(key) {\n",
              "          const element = document.querySelector('#df-03d4b974-18c0-4ddf-a5ca-00bca3644458');\n",
              "          const dataTable =\n",
              "            await google.colab.kernel.invokeFunction('convertToInteractive',\n",
              "                                                     [key], {});\n",
              "          if (!dataTable) return;\n",
              "\n",
              "          const docLinkHtml = 'Like what you see? Visit the ' +\n",
              "            '<a target=\"_blank\" href=https://colab.research.google.com/notebooks/data_table.ipynb>data table notebook</a>'\n",
              "            + ' to learn more about interactive tables.';\n",
              "          element.innerHTML = '';\n",
              "          dataTable['output_type'] = 'display_data';\n",
              "          await google.colab.output.renderOutput(dataTable, element);\n",
              "          const docLink = document.createElement('div');\n",
              "          docLink.innerHTML = docLinkHtml;\n",
              "          element.appendChild(docLink);\n",
              "        }\n",
              "      </script>\n",
              "    </div>\n",
              "  </div>\n",
              "  "
            ]
          },
          "metadata": {},
          "execution_count": 18
        }
      ]
    },
    {
      "cell_type": "code",
      "source": [
        "df = df1[df1[\"App Name\"] != \"csl plasma\"]"
      ],
      "metadata": {
        "id": "XdbDHhhDXWCs"
      },
      "execution_count": null,
      "outputs": []
    },
    {
      "cell_type": "code",
      "source": [
        "df"
      ],
      "metadata": {
        "colab": {
          "base_uri": "https://localhost:8080/",
          "height": 849
        },
        "id": "tNcLWmbGY-zX",
        "outputId": "5c5acb62-1216-40e1-e144-14f52e0ab249"
      },
      "execution_count": null,
      "outputs": [
        {
          "output_type": "execute_result",
          "data": {
            "text/plain": [
              "                    date                                             review  \\\n",
              "0    2020-10-11 02:50:35  This app is one of the strangest things I’ve e...   \n",
              "1    2022-05-13 21:07:55  Except there’s a lot that needs to be worked o...   \n",
              "2    2020-09-24 02:47:16  I tried all the rest and I got to say hands do...   \n",
              "3    2018-05-19 12:22:08  Some doctors on here seem hesitant to do anyth...   \n",
              "4    2021-07-29 16:50:33  I feel Teladoc as a whole is great in theory r...   \n",
              "...                  ...                                                ...   \n",
              "8916 2019-01-15 22:36:59  I’ve tried all the methods asked for and none ...   \n",
              "8917 2018-12-17 20:04:27  Downloaded this app only so I could get the 10...   \n",
              "8918 2020-12-10 17:22:38  Bring back BD - this app is not user friendly ...   \n",
              "8919 2020-02-11 18:18:16  Don’t let them fool you, you’re not getting th...   \n",
              "8920 2017-09-09 17:49:26  Can't download nor does it take off from the l...   \n",
              "\n",
              "      rating  isEdited                                      title    userName  \\\n",
              "0          5     False                       My invoice says $0??   Puzels445   \n",
              "1          5     False            Great for general medical care…   Breathe75   \n",
              "2          5     False                      This APP delivered!!!  AnimatiCKS   \n",
              "3          2     False          It’s hit or miss with the doctors      kcnray   \n",
              "4          3     False  Multiple Unreliable Physician Experiences      b-abba   \n",
              "...      ...       ...                                        ...         ...   \n",
              "8916       1     False                           App doesn’t work      pab131   \n",
              "8917       1     False                                      Bogus   JoanneT33   \n",
              "8918       1     False                                   Horrible    Cortni:)   \n",
              "8919       1     False                    Where is my $10 reward?   Mariondms   \n",
              "8920       1     False                               Doesn't work  Bouboulina   \n",
              "\n",
              "                                      developerResponse App Name  \n",
              "0                                                   NaN  teladoc  \n",
              "1                                                   NaN  teladoc  \n",
              "2     {'id': 18182265, 'body': 'Thank you for your f...  teladoc  \n",
              "3                                                   NaN  teladoc  \n",
              "4     {'id': 24359785, 'body': 'Hi there, We are so ...  teladoc  \n",
              "...                                                 ...      ...  \n",
              "8916                                                NaN     Alle  \n",
              "8917                                                NaN     Alle  \n",
              "8918                                                NaN     Alle  \n",
              "8919                                                NaN     Alle  \n",
              "8920                                                NaN     Alle  \n",
              "\n",
              "[8750 rows x 8 columns]"
            ],
            "text/html": [
              "\n",
              "  <div id=\"df-6e44b63c-f536-4f07-8ced-c8b21e713ea2\">\n",
              "    <div class=\"colab-df-container\">\n",
              "      <div>\n",
              "<style scoped>\n",
              "    .dataframe tbody tr th:only-of-type {\n",
              "        vertical-align: middle;\n",
              "    }\n",
              "\n",
              "    .dataframe tbody tr th {\n",
              "        vertical-align: top;\n",
              "    }\n",
              "\n",
              "    .dataframe thead th {\n",
              "        text-align: right;\n",
              "    }\n",
              "</style>\n",
              "<table border=\"1\" class=\"dataframe\">\n",
              "  <thead>\n",
              "    <tr style=\"text-align: right;\">\n",
              "      <th></th>\n",
              "      <th>date</th>\n",
              "      <th>review</th>\n",
              "      <th>rating</th>\n",
              "      <th>isEdited</th>\n",
              "      <th>title</th>\n",
              "      <th>userName</th>\n",
              "      <th>developerResponse</th>\n",
              "      <th>App Name</th>\n",
              "    </tr>\n",
              "  </thead>\n",
              "  <tbody>\n",
              "    <tr>\n",
              "      <th>0</th>\n",
              "      <td>2020-10-11 02:50:35</td>\n",
              "      <td>This app is one of the strangest things I’ve e...</td>\n",
              "      <td>5</td>\n",
              "      <td>False</td>\n",
              "      <td>My invoice says $0??</td>\n",
              "      <td>Puzels445</td>\n",
              "      <td>NaN</td>\n",
              "      <td>teladoc</td>\n",
              "    </tr>\n",
              "    <tr>\n",
              "      <th>1</th>\n",
              "      <td>2022-05-13 21:07:55</td>\n",
              "      <td>Except there’s a lot that needs to be worked o...</td>\n",
              "      <td>5</td>\n",
              "      <td>False</td>\n",
              "      <td>Great for general medical care…</td>\n",
              "      <td>Breathe75</td>\n",
              "      <td>NaN</td>\n",
              "      <td>teladoc</td>\n",
              "    </tr>\n",
              "    <tr>\n",
              "      <th>2</th>\n",
              "      <td>2020-09-24 02:47:16</td>\n",
              "      <td>I tried all the rest and I got to say hands do...</td>\n",
              "      <td>5</td>\n",
              "      <td>False</td>\n",
              "      <td>This APP delivered!!!</td>\n",
              "      <td>AnimatiCKS</td>\n",
              "      <td>{'id': 18182265, 'body': 'Thank you for your f...</td>\n",
              "      <td>teladoc</td>\n",
              "    </tr>\n",
              "    <tr>\n",
              "      <th>3</th>\n",
              "      <td>2018-05-19 12:22:08</td>\n",
              "      <td>Some doctors on here seem hesitant to do anyth...</td>\n",
              "      <td>2</td>\n",
              "      <td>False</td>\n",
              "      <td>It’s hit or miss with the doctors</td>\n",
              "      <td>kcnray</td>\n",
              "      <td>NaN</td>\n",
              "      <td>teladoc</td>\n",
              "    </tr>\n",
              "    <tr>\n",
              "      <th>4</th>\n",
              "      <td>2021-07-29 16:50:33</td>\n",
              "      <td>I feel Teladoc as a whole is great in theory r...</td>\n",
              "      <td>3</td>\n",
              "      <td>False</td>\n",
              "      <td>Multiple Unreliable Physician Experiences</td>\n",
              "      <td>b-abba</td>\n",
              "      <td>{'id': 24359785, 'body': 'Hi there, We are so ...</td>\n",
              "      <td>teladoc</td>\n",
              "    </tr>\n",
              "    <tr>\n",
              "      <th>...</th>\n",
              "      <td>...</td>\n",
              "      <td>...</td>\n",
              "      <td>...</td>\n",
              "      <td>...</td>\n",
              "      <td>...</td>\n",
              "      <td>...</td>\n",
              "      <td>...</td>\n",
              "      <td>...</td>\n",
              "    </tr>\n",
              "    <tr>\n",
              "      <th>8916</th>\n",
              "      <td>2019-01-15 22:36:59</td>\n",
              "      <td>I’ve tried all the methods asked for and none ...</td>\n",
              "      <td>1</td>\n",
              "      <td>False</td>\n",
              "      <td>App doesn’t work</td>\n",
              "      <td>pab131</td>\n",
              "      <td>NaN</td>\n",
              "      <td>Alle</td>\n",
              "    </tr>\n",
              "    <tr>\n",
              "      <th>8917</th>\n",
              "      <td>2018-12-17 20:04:27</td>\n",
              "      <td>Downloaded this app only so I could get the 10...</td>\n",
              "      <td>1</td>\n",
              "      <td>False</td>\n",
              "      <td>Bogus</td>\n",
              "      <td>JoanneT33</td>\n",
              "      <td>NaN</td>\n",
              "      <td>Alle</td>\n",
              "    </tr>\n",
              "    <tr>\n",
              "      <th>8918</th>\n",
              "      <td>2020-12-10 17:22:38</td>\n",
              "      <td>Bring back BD - this app is not user friendly ...</td>\n",
              "      <td>1</td>\n",
              "      <td>False</td>\n",
              "      <td>Horrible</td>\n",
              "      <td>Cortni:)</td>\n",
              "      <td>NaN</td>\n",
              "      <td>Alle</td>\n",
              "    </tr>\n",
              "    <tr>\n",
              "      <th>8919</th>\n",
              "      <td>2020-02-11 18:18:16</td>\n",
              "      <td>Don’t let them fool you, you’re not getting th...</td>\n",
              "      <td>1</td>\n",
              "      <td>False</td>\n",
              "      <td>Where is my $10 reward?</td>\n",
              "      <td>Mariondms</td>\n",
              "      <td>NaN</td>\n",
              "      <td>Alle</td>\n",
              "    </tr>\n",
              "    <tr>\n",
              "      <th>8920</th>\n",
              "      <td>2017-09-09 17:49:26</td>\n",
              "      <td>Can't download nor does it take off from the l...</td>\n",
              "      <td>1</td>\n",
              "      <td>False</td>\n",
              "      <td>Doesn't work</td>\n",
              "      <td>Bouboulina</td>\n",
              "      <td>NaN</td>\n",
              "      <td>Alle</td>\n",
              "    </tr>\n",
              "  </tbody>\n",
              "</table>\n",
              "<p>8750 rows × 8 columns</p>\n",
              "</div>\n",
              "      <button class=\"colab-df-convert\" onclick=\"convertToInteractive('df-6e44b63c-f536-4f07-8ced-c8b21e713ea2')\"\n",
              "              title=\"Convert this dataframe to an interactive table.\"\n",
              "              style=\"display:none;\">\n",
              "        \n",
              "  <svg xmlns=\"http://www.w3.org/2000/svg\" height=\"24px\"viewBox=\"0 0 24 24\"\n",
              "       width=\"24px\">\n",
              "    <path d=\"M0 0h24v24H0V0z\" fill=\"none\"/>\n",
              "    <path d=\"M18.56 5.44l.94 2.06.94-2.06 2.06-.94-2.06-.94-.94-2.06-.94 2.06-2.06.94zm-11 1L8.5 8.5l.94-2.06 2.06-.94-2.06-.94L8.5 2.5l-.94 2.06-2.06.94zm10 10l.94 2.06.94-2.06 2.06-.94-2.06-.94-.94-2.06-.94 2.06-2.06.94z\"/><path d=\"M17.41 7.96l-1.37-1.37c-.4-.4-.92-.59-1.43-.59-.52 0-1.04.2-1.43.59L10.3 9.45l-7.72 7.72c-.78.78-.78 2.05 0 2.83L4 21.41c.39.39.9.59 1.41.59.51 0 1.02-.2 1.41-.59l7.78-7.78 2.81-2.81c.8-.78.8-2.07 0-2.86zM5.41 20L4 18.59l7.72-7.72 1.47 1.35L5.41 20z\"/>\n",
              "  </svg>\n",
              "      </button>\n",
              "      \n",
              "  <style>\n",
              "    .colab-df-container {\n",
              "      display:flex;\n",
              "      flex-wrap:wrap;\n",
              "      gap: 12px;\n",
              "    }\n",
              "\n",
              "    .colab-df-convert {\n",
              "      background-color: #E8F0FE;\n",
              "      border: none;\n",
              "      border-radius: 50%;\n",
              "      cursor: pointer;\n",
              "      display: none;\n",
              "      fill: #1967D2;\n",
              "      height: 32px;\n",
              "      padding: 0 0 0 0;\n",
              "      width: 32px;\n",
              "    }\n",
              "\n",
              "    .colab-df-convert:hover {\n",
              "      background-color: #E2EBFA;\n",
              "      box-shadow: 0px 1px 2px rgba(60, 64, 67, 0.3), 0px 1px 3px 1px rgba(60, 64, 67, 0.15);\n",
              "      fill: #174EA6;\n",
              "    }\n",
              "\n",
              "    [theme=dark] .colab-df-convert {\n",
              "      background-color: #3B4455;\n",
              "      fill: #D2E3FC;\n",
              "    }\n",
              "\n",
              "    [theme=dark] .colab-df-convert:hover {\n",
              "      background-color: #434B5C;\n",
              "      box-shadow: 0px 1px 3px 1px rgba(0, 0, 0, 0.15);\n",
              "      filter: drop-shadow(0px 1px 2px rgba(0, 0, 0, 0.3));\n",
              "      fill: #FFFFFF;\n",
              "    }\n",
              "  </style>\n",
              "\n",
              "      <script>\n",
              "        const buttonEl =\n",
              "          document.querySelector('#df-6e44b63c-f536-4f07-8ced-c8b21e713ea2 button.colab-df-convert');\n",
              "        buttonEl.style.display =\n",
              "          google.colab.kernel.accessAllowed ? 'block' : 'none';\n",
              "\n",
              "        async function convertToInteractive(key) {\n",
              "          const element = document.querySelector('#df-6e44b63c-f536-4f07-8ced-c8b21e713ea2');\n",
              "          const dataTable =\n",
              "            await google.colab.kernel.invokeFunction('convertToInteractive',\n",
              "                                                     [key], {});\n",
              "          if (!dataTable) return;\n",
              "\n",
              "          const docLinkHtml = 'Like what you see? Visit the ' +\n",
              "            '<a target=\"_blank\" href=https://colab.research.google.com/notebooks/data_table.ipynb>data table notebook</a>'\n",
              "            + ' to learn more about interactive tables.';\n",
              "          element.innerHTML = '';\n",
              "          dataTable['output_type'] = 'display_data';\n",
              "          await google.colab.output.renderOutput(dataTable, element);\n",
              "          const docLink = document.createElement('div');\n",
              "          docLink.innerHTML = docLinkHtml;\n",
              "          element.appendChild(docLink);\n",
              "        }\n",
              "      </script>\n",
              "    </div>\n",
              "  </div>\n",
              "  "
            ]
          },
          "metadata": {},
          "execution_count": 20
        }
      ]
    },
    {
      "cell_type": "code",
      "source": [
        "df.to_csv(\"ios-HealthcareAll.csv\")"
      ],
      "metadata": {
        "id": "XolHXsDrZAVK"
      },
      "execution_count": null,
      "outputs": []
    },
    {
      "cell_type": "code",
      "source": [],
      "metadata": {
        "id": "lE37a8dyaKLM"
      },
      "execution_count": null,
      "outputs": []
    }
  ]
}